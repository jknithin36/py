{
 "cells": [
  {
   "cell_type": "code",
   "execution_count": 1,
   "id": "d81561aa",
   "metadata": {},
   "outputs": [
    {
     "name": "stdout",
     "output_type": "stream",
     "text": [
      "['You', 'are', 'a', 'dumb', 'person', 'and', 'a', 'total', 'IDIOT!!!']\n"
     ]
    }
   ],
   "source": [
    "text = \"You are a dumb person and a total IDIOT!!!\"\n",
    "words = text.split(\" \")\n",
    "print(words)"
   ]
  },
  {
   "cell_type": "code",
   "execution_count": null,
   "id": "05adffed",
   "metadata": {},
   "outputs": [],
   "source": []
  },
  {
   "cell_type": "code",
   "execution_count": 2,
   "id": "1631a38e",
   "metadata": {},
   "outputs": [
    {
     "name": "stdout",
     "output_type": "stream",
     "text": [
      "{'idiot', 'dumb'}\n"
     ]
    }
   ],
   "source": [
    "list = [\"dumb\", \"idiot\"]\n",
    "\n",
    "banned_list = set((x.lower() for x in list ))\n",
    "print(banned_list)"
   ]
  },
  {
   "cell_type": "code",
   "execution_count": 3,
   "id": "f6051e75",
   "metadata": {},
   "outputs": [
    {
     "name": "stdout",
     "output_type": "stream",
     "text": [
      "Abcd345\n"
     ]
    }
   ],
   "source": [
    "x = \"Abcd345$\"\n",
    "\n",
    "tem=\"\"\n",
    "for i in x:\n",
    "    if(i.isalnum()):\n",
    "        tem+= i\n",
    "\n",
    "print(tem)"
   ]
  },
  {
   "cell_type": "code",
   "execution_count": 15,
   "id": "b4e4d2e4",
   "metadata": {},
   "outputs": [
    {
     "name": "stdout",
     "output_type": "stream",
     "text": [
      "['You', 'are', 'a', 'dumb', 'person', 'and', 'a', 'total', 'IDIOT!!!'] {'dumb', 'idiot'}\n",
      "You\n",
      "you\n",
      "are\n",
      "are\n",
      "a\n",
      "a\n",
      "dumb\n",
      "dumb\n",
      "****\n",
      "person\n",
      "person\n",
      "and\n",
      "and\n",
      "a\n",
      "a\n",
      "total\n",
      "total\n",
      "IDIOT\n",
      "idiot\n",
      "*****\n"
     ]
    },
    {
     "data": {
      "text/plain": [
       "'You are a **** person and a total *****!!!'"
      ]
     },
     "execution_count": 15,
     "metadata": {},
     "output_type": "execute_result"
    }
   ],
   "source": [
    "def mute_words(text, muted_list):\n",
    "    words  = text.split(\" \")\n",
    "    banned_set = set({x.lower() for x in muted_list})\n",
    "    result =[]\n",
    "\n",
    "    print(words, banned_set)\n",
    "\n",
    "    for word in words:\n",
    "        stripped = \"\".join([w for w in word if w.isalpha()])\n",
    "        print(stripped)\n",
    "        lower_stripped = stripped.lower()\n",
    "        print(lower_stripped)\n",
    "\n",
    "        if(lower_stripped in banned_set):\n",
    "            censored = \"*\" * len(lower_stripped)\n",
    "            print(censored)\n",
    "            if not word[-1].isalnum(): # if specaila characters returen true\n",
    "                 suffix = word[len(stripped):]\n",
    "            else:\n",
    "                suffix=\"\"\n",
    "            result.append(censored + suffix)\n",
    "        \n",
    "        else:\n",
    "            result.append(word)\n",
    "    \n",
    "    return \" \".join(result)\n",
    "\n",
    "        \n",
    "\n",
    "\n",
    "\n",
    "\n",
    "mute_words(\"You are a dumb person and a total IDIOT!!!\", [\"dumb\", \"idiot\"] )\n",
    "\n",
    "\n"
   ]
  }
 ],
 "metadata": {
  "kernelspec": {
   "display_name": "Python 3",
   "language": "python",
   "name": "python3"
  },
  "language_info": {
   "codemirror_mode": {
    "name": "ipython",
    "version": 3
   },
   "file_extension": ".py",
   "mimetype": "text/x-python",
   "name": "python",
   "nbconvert_exporter": "python",
   "pygments_lexer": "ipython3",
   "version": "3.12.1"
  }
 },
 "nbformat": 4,
 "nbformat_minor": 5
}
