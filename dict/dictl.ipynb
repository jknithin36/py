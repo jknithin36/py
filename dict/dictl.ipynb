{
 "cells": [
  {
   "cell_type": "code",
   "execution_count": 2,
   "id": "1b4cdb20",
   "metadata": {},
   "outputs": [
    {
     "name": "stdout",
     "output_type": "stream",
     "text": [
      "Checking word: a\n",
      "Added new word: a with count 1\n",
      "Checking word: b\n",
      "Comparing with key: a\n",
      "Added new word: b with count 1\n",
      "Checking word: c\n",
      "Comparing with key: a\n",
      "Comparing with key: b\n",
      "Added new word: c with count 1\n",
      "Checking word: d\n",
      "Comparing with key: a\n",
      "Comparing with key: b\n",
      "Comparing with key: c\n",
      "Added new word: d with count 1\n",
      "Checking word: a\n",
      "Comparing with key: a\n",
      "Incremented a to 2\n",
      "Checking word: b\n",
      "Comparing with key: a\n",
      "Comparing with key: b\n",
      "Incremented b to 2\n",
      "{'a': 2, 'b': 2, 'c': 1, 'd': 1}\n"
     ]
    }
   ],
   "source": [
    "def count_word_frequency(words):\n",
    "    freq = {}\n",
    "    \n",
    "    for word in words:\n",
    "        print(\"Checking word:\", word)\n",
    "        found = False\n",
    "        \n",
    "        for key in freq:\n",
    "            print(\"Comparing with key:\", key)\n",
    "            if key == word:\n",
    "                freq[key] = freq[key] + 1\n",
    "                print(f\"Incremented {word} to {freq[key]}\")\n",
    "                found = True\n",
    "                break\n",
    "        \n",
    "        if not found:\n",
    "            freq[word] = 1\n",
    "            print(f\"Added new word: {word} with count 1\")\n",
    "    \n",
    "    return freq\n",
    "\n",
    "# Test\n",
    "words = ['a', 'b', 'c', 'd', 'a', 'b']\n",
    "print(count_word_frequency(words))\n"
   ]
  },
  {
   "cell_type": "code",
   "execution_count": null,
   "id": "143d4304",
   "metadata": {},
   "outputs": [],
   "source": []
  },
  {
   "cell_type": "code",
   "execution_count": null,
   "id": "5ea74488",
   "metadata": {},
   "outputs": [],
   "source": []
  },
  {
   "cell_type": "code",
   "execution_count": 3,
   "id": "7b1eba68",
   "metadata": {},
   "outputs": [
    {
     "data": {
      "text/plain": [
       "{'a': 2, 'b': 2, 'c': 1, 'd': 1}"
      ]
     },
     "execution_count": 3,
     "metadata": {},
     "output_type": "execute_result"
    }
   ],
   "source": [
    "def count(list):\n",
    "    freq = {}\n",
    "    for element in list:\n",
    "        found = False\n",
    "        for key in freq:\n",
    "            if key == element:\n",
    "                freq[key] +=1\n",
    "                found = True\n",
    "                break\n",
    "        if not found:\n",
    "            freq[element] =1 \n",
    "    \n",
    "    return freq\n",
    "\n",
    "count(['a', 'b', 'c', 'd', 'a', 'b'])\n"
   ]
  },
  {
   "cell_type": "code",
   "execution_count": null,
   "id": "86bfd247",
   "metadata": {},
   "outputs": [
    {
     "name": "stdout",
     "output_type": "stream",
     "text": [
      "Category : clothing  | Orginal : 39.98 | Discounted : 35.982\n",
      "Category : electronics  | Orginal : 49.99 | Discounted : 47.490500000000004\n",
      "Category : groceries  | Orginal : 14.950000000000001 | Discounted : 14.950000000000001\n"
     ]
    }
   ],
   "source": [
    "cart = [\n",
    "    {\"name\": \"T-shirt\", \"category\": \"clothing\", \"price\": 19.99, \"quantity\": 2},\n",
    "    {\"name\": \"Headphones\", \"category\": \"electronics\", \"price\": 49.99, \"quantity\": 1},\n",
    "    {\"name\": \"Apples\", \"category\": \"groceries\", \"price\": 2.99, \"quantity\": 5}\n",
    "]\n",
    "\n",
    "\n",
    "\n",
    "for item in cart:\n",
    "    item[\"total\"] = item[\"price\"] * item[\"quantity\"] \n",
    "    # print(item)\n",
    "\n",
    "# print(cart)\n",
    "\n",
    "for item in cart:\n",
    "    if item[\"category\"] == \"clothing\":\n",
    "        item[\"Discounted\"] = abs(((item[\"total\"] * 10) / 100) - item[\"total\"])\n",
    "    elif item[\"category\"] == \"electronics\":\n",
    "        item[\"Discounted\"] = abs(((item[\"total\"] * 5) / 100) - item[\"total\"])\n",
    "    else:\n",
    "        item[\"Discounted\"] = item[\"total\"]\n",
    "\n",
    "\n",
    "for i in cart:\n",
    "    print(f\"Category : {i[\"category\"]}  | Orginal : {i[\"total\"]} | Discounted : {i[\"Discounted\"]}\")      "
   ]
  }
 ],
 "metadata": {
  "kernelspec": {
   "display_name": "Python 3",
   "language": "python",
   "name": "python3"
  },
  "language_info": {
   "codemirror_mode": {
    "name": "ipython",
    "version": 3
   },
   "file_extension": ".py",
   "mimetype": "text/x-python",
   "name": "python",
   "nbconvert_exporter": "python",
   "pygments_lexer": "ipython3",
   "version": "3.12.1"
  }
 },
 "nbformat": 4,
 "nbformat_minor": 5
}
